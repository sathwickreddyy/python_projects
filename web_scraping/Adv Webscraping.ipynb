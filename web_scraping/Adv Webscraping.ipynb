{
 "cells": [
  {
   "cell_type": "markdown",
   "metadata": {
    "colab_type": "text",
    "id": "IP51gAUOywiy"
   },
   "source": [
    "# **Installing Selenium**"
   ]
  },
  {
   "cell_type": "code",
   "execution_count": 1,
   "metadata": {
    "colab": {},
    "colab_type": "code",
    "id": "z3gVvOqXxtxE",
    "scrolled": true
   },
   "outputs": [
    {
     "name": "stdout",
     "output_type": "stream",
     "text": [
      "Requirement already satisfied: selenium in /Users/sr7037/myOffice/Machine_Learning/anaconda3/lib/python3.7/site-packages (3.141.0)\n",
      "Requirement already satisfied: urllib3 in /Users/sr7037/myOffice/Machine_Learning/anaconda3/lib/python3.7/site-packages (from selenium) (1.24.2)\n"
     ]
    }
   ],
   "source": [
    "!pip install selenium"
   ]
  },
  {
   "cell_type": "code",
   "execution_count": 17,
   "metadata": {
    "scrolled": false
   },
   "outputs": [
    {
     "data": {
      "text/plain": [
       "['/Users/sr7037/myOffice/Machine_Learning/anaconda3/lib/python37.zip',\n",
       " '',\n",
       " '/Users/sr7037/.ipython',\n",
       " '/Users/sr7037/myOffice/Machine_Learning/anaconda3/lib/python3.7/site-packages',\n",
       " '/usr/lib/chromium-browser/chromedriver',\n",
       " '/Users/sr7037/myOffice/Machine_Learning/anaconda3/lib/python3.7/site-packages/aeosa',\n",
       " '/Applications/chromedriver',\n",
       " '/Users/sr7037/myOffice/Machine_Learning/anaconda3/lib/python3.7',\n",
       " '/Users/sr7037/myOffice/Machine_Learning/anaconda3/lib/python3.7/site-packages/IPython/extensions',\n",
       " '/Users/sr7037/myOffice/DataScience',\n",
       " '/Users/sr7037/myOffice/Machine_Learning/anaconda3/lib/python3.7/lib-dynload']"
      ]
     },
     "execution_count": 17,
     "metadata": {},
     "output_type": "execute_result"
    }
   ],
   "source": [
    "import sys\n",
    "#sys.path.insert(0,'/Applications/chromedriver')\n",
    "\n",
    "sys.path"
   ]
  },
  {
   "cell_type": "markdown",
   "metadata": {
    "colab_type": "text",
    "id": "mFrQikeH1xl7"
   },
   "source": [
    "# **Working with selenium**"
   ]
  },
  {
   "cell_type": "markdown",
   "metadata": {
    "colab_type": "text",
    "id": "9mvF1tDt2KNG"
   },
   "source": [
    "https://chromedriver.storgage.googleapis.com/index.html?path=2.42/\n",
    "\n",
    "or \n",
    "\n",
    "https://chromedriver.chromium.org/downloads"
   ]
  },
  {
   "cell_type": "markdown",
   "metadata": {
    "colab_type": "text",
    "id": "CNV4eJ0q2btK"
   },
   "source": [
    "go to url Select the appropriate version and download the zip file and unzip it"
   ]
  },
  {
   "cell_type": "markdown",
   "metadata": {
    "colab_type": "text",
    "id": "-3z8NMjh5YF3"
   },
   "source": [
    "Then now go to terminal and move the unzipped file to /usr/local/bin/ \n",
    "This is how u install chrome driver in mac\n",
    "BTW ChromeDriver is neccesary for working of selenium."
   ]
  },
  {
   "cell_type": "code",
   "execution_count": 19,
   "metadata": {
    "colab": {
     "base_uri": "https://localhost:8080/",
     "height": 368
    },
    "colab_type": "code",
    "id": "jUC5Z9gL01US",
    "outputId": "77ad68db-c357-42ce-f1bc-4fae6bc0a5aa"
   },
   "outputs": [
    {
     "name": "stderr",
     "output_type": "stream",
     "text": [
      "/Users/sr7037/myOffice/Machine_Learning/anaconda3/lib/python3.7/site-packages/ipykernel_launcher.py:14: DeprecationWarning: use options instead of chrome_options\n",
      "  \n"
     ]
    }
   ],
   "source": [
    "from selenium import webdriver\n",
    "\n",
    "chrm_opt=webdriver.ChromeOptions()\n",
    "\n",
    "chrm_opt.add_argument('--headless')\n",
    "#Eliminates GUI frm Chrome ! We did becoz we only need the code of html and js \n",
    "\n",
    "chrm_opt.add_argument('--disable-dev-shm-usage')\n",
    "#sometimes the chromium may crash becoz we r eliminating gui , so we need to add this argument\n",
    "\n",
    "chrm_opt.add_argument('--no-sandbox') \n",
    "#Indicated no sandbox environment\n",
    "\n",
    "wd = webdriver.Chrome('chromedriver',chrome_options=chrm_opt)\n",
    "#Chrome Browser (that will be used by selenium) chrome driver is the file we uploaded to colab"
   ]
  },
  {
   "cell_type": "markdown",
   "metadata": {
    "colab_type": "text",
    "id": "nYFGOg_B9lzi"
   },
   "source": [
    "1: Get url"
   ]
  },
  {
   "cell_type": "code",
   "execution_count": 20,
   "metadata": {
    "colab": {},
    "colab_type": "code",
    "id": "FjmsHZCK1Yf0"
   },
   "outputs": [
    {
     "name": "stdout",
     "output_type": "stream",
     "text": [
      "https://www.cbit.ac.in/about_post/exam-notices/\n"
     ]
    }
   ],
   "source": [
    "wd.get(\"https://www.cbit.ac.in/about_post/exam-notices/\")\n",
    "\n",
    "print(wd.current_url)"
   ]
  },
  {
   "cell_type": "markdown",
   "metadata": {
    "colab_type": "text",
    "id": "EKGxmmBN-x7e"
   },
   "source": [
    "2: \n",
    "   * Inspect element and get identifier\n",
    "   * Note that find_element_... will return the web element\n",
    "   * find_elements_... will return the list of web elements"
   ]
  },
  {
   "cell_type": "code",
   "execution_count": null,
   "metadata": {
    "colab": {
     "base_uri": "https://localhost:8080/",
     "height": 198
    },
    "colab_type": "code",
    "id": "c4nSxJ3X-SZX",
    "outputId": "2f5cf5e8-bda6-4d1a-8256-3fbcf0041338"
   },
   "outputs": [],
   "source": [
    " Exams_info = wd.find_element_by_class_name(\"adm-right-col\")\n",
    " print(Exams_info.text)"
   ]
  },
  {
   "cell_type": "markdown",
   "metadata": {
    "colab": {},
    "colab_type": "code",
    "id": "FZ6H2ku__VLa"
   },
   "source": [
    "### See the object is not a string value its a webelement"
   ]
  },
  {
   "cell_type": "code",
   "execution_count": 24,
   "metadata": {},
   "outputs": [
    {
     "name": "stdout",
     "output_type": "stream",
     "text": [
      "<class 'str'>\n"
     ]
    }
   ],
   "source": [
    "print(type(Exams_info.text))"
   ]
  },
  {
   "cell_type": "markdown",
   "metadata": {},
   "source": [
    "## Getting my attendence "
   ]
  },
  {
   "cell_type": "code",
   "execution_count": 70,
   "metadata": {},
   "outputs": [
    {
     "name": "stderr",
     "output_type": "stream",
     "text": [
      "/Users/sr7037/myOffice/Machine_Learning/anaconda3/lib/python3.7/site-packages/ipykernel_launcher.py:8: DeprecationWarning: use options instead of chrome_options\n",
      "  \n"
     ]
    },
    {
     "name": "stdout",
     "output_type": "stream",
     "text": [
      "<bound method WebDriver.get_screenshot_as_png of <selenium.webdriver.chrome.webdriver.WebDriver (session=\"63ead66bc65c54a2ead1641f912ff93f\")>>\n",
      "https://erp.cbit.org.in/Login.aspx?ReturnUrl=%2f\n",
      "Sathwick Your attendence is :  71.03 %\n",
      "CC : Compiler Construction by GV : Mrs. G.VANITHA \n",
      " Conducted classes : 32 \n",
      " Attended classes : 24 \n",
      " % of attendence is 75.00 % \n",
      "\n",
      "\n",
      "AI : Artificial Intelligence by NRD : Mrs. N.RAMA DEVI \n",
      " Conducted classes : 27 \n",
      " Attended classes : 14 \n",
      " % of attendence is 51.85 % \n",
      "\n",
      "\n",
      "MC : Mobile Computing by EP : Mrs. E.PADMALATHA \n",
      " Conducted classes : 25 \n",
      " Attended classes : 15 \n",
      " % of attendence is 60.00 % \n",
      "\n",
      "\n",
      "I&NS : Information and Network Security by TSK : Mrs. T.SUVARNA KUMARI \n",
      " Conducted classes : 34 \n",
      " Attended classes : 21 \n",
      " % of attendence is 61.76 % \n",
      "\n",
      "\n",
      "IOT : Internet of Things by GM : Mrs. G.MAMATHA \n",
      " Conducted classes : 30 \n",
      " Attended classes : 19 \n",
      " % of attendence is 63.33 % \n",
      "\n",
      "\n",
      "DM : Data Mining by RRR : Mr. R.RAVINDER REDDY \n",
      " Conducted classes : 31 \n",
      " Attended classes : 24 \n",
      " % of attendence is 77.42 % \n",
      "\n",
      "\n",
      "I&NS LAB : Information and Network Security security Lab by TSK : Mrs. T.SUVARNA KUMARI \n",
      " Conducted classes : 36 \n",
      " Attended classes : 33 \n",
      " % of attendence is 91.67 % \n",
      "\n",
      "\n",
      "IOT LAB : Internet of Things Lab by GM : Mrs. G.MAMATHA \n",
      " Conducted classes : 36 \n",
      " Attended classes : 33 \n",
      " % of attendence is 91.67 % \n",
      "\n",
      "\n",
      "MP-II : Mini Project-II by GV : Mr. G.VIVEK \n",
      " Conducted classes : 30 \n",
      " Attended classes : 18 \n",
      " % of attendence is 60.00 % \n",
      "\n",
      "\n",
      "FIT : FIT INDIA by GSMR : Dr. G.SHYAM MOHAN REDDY \n",
      " Conducted classes : 9 \n",
      " Attended classes : 5 \n",
      " % of attendence is 55.56 % \n",
      "\n",
      "\n",
      "- by Total \n",
      " Conducted classes : 290 \n",
      " Attended classes : 206 \n",
      " % of attendence is 71.03 % \n",
      "\n",
      "\n"
     ]
    }
   ],
   "source": [
    "from selenium import webdriver\n",
    "import time\n",
    "c_op = webdriver.ChromeOptions()\n",
    "c_op.add_argument('--headless')\n",
    "c_op.add_argument('--no-sandbox')\n",
    "c_op.add_argument('--disable-dev-shm-usage')\n",
    "\n",
    "wd = webdriver.Chrome('chromedriver',chrome_options=c_op)\n",
    "#Make sure that we might get no session created error that implies we need to replace the chromedriver \n",
    "#with latest chrome driver\n",
    "wd.get(\"https://erp.cbit.org.in/Login.aspx?ReturnUrl=%2f\")\n",
    "\n",
    "while wd.current_url != \"https://erp.cbit.org.in/Login.aspx?ReturnUrl=%2f\":\n",
    "    print(wd.current_url)\n",
    "   \n",
    "print(wd.get_screenshot_as_png)\n",
    "search_box=wd.find_element_by_id(\"txtUserName\")\n",
    "search_box.send_keys(\"160117733046\")\n",
    "#now send_keys does typing in search bar\n",
    "\n",
    "submit = wd.find_element_by_id(\"btnNext\")\n",
    "submit.click()\n",
    "#now our url is the new page url (wd holds that) obtained after the search\n",
    "print(wd.current_url)\n",
    "search_box=wd.find_element_by_id(\"txtPassword\")\n",
    "search_box.send_keys(\"160117733046\")\n",
    "#now send_keys does typing in search bar\n",
    "\n",
    "submit = wd.find_element_by_id(\"btnSubmit\")\n",
    "submit.click()\n",
    "\n",
    "xx = wd.find_element_by_id(\"ctl00_cpStud_lblTotalPercentage\")\n",
    "print(\"Sathwick Your attendence is : \",xx.text)\n",
    "\n",
    "table = wd.find_element_by_id(\"ctl00_cpStud_PanelSubjectwise\")\n",
    "vals = table.find_elements_by_tag_name(\"tr\")\n",
    "for i in vals:\n",
    "    cells = i.find_elements_by_tag_name(\"td\")\n",
    "    if len(cells)==6:\n",
    "        print(\"{} by {} \\n Conducted classes : {} \\n Attended classes : {} \\n % of attendence is {} % \\n\\n\".format(cells[1].text,cells[2].text,cells[3].text,cells[4].text,cells[5].text))\n"
   ]
  },
  {
   "cell_type": "code",
   "execution_count": null,
   "metadata": {},
   "outputs": [],
   "source": []
  }
 ],
 "metadata": {
  "colab": {
   "name": "webscraping",
   "provenance": []
  },
  "kernelspec": {
   "display_name": "Python 3",
   "language": "python",
   "name": "python3"
  },
  "language_info": {
   "codemirror_mode": {
    "name": "ipython",
    "version": 3
   },
   "file_extension": ".py",
   "mimetype": "text/x-python",
   "name": "python",
   "nbconvert_exporter": "python",
   "pygments_lexer": "ipython3",
   "version": "3.7.4"
  }
 },
 "nbformat": 4,
 "nbformat_minor": 1
}
