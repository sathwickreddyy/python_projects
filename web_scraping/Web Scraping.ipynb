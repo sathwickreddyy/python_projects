{
 "cells": [
  {
   "cell_type": "code",
   "execution_count": 121,
   "metadata": {},
   "outputs": [
    {
     "data": {
      "text/plain": [
       "<a href=\"/entertainment/hindi/bollywood/news/kartik-aaryan-is-on-a-mission-to-spread-good-news-calls-hollywood-actor-john-krasinski-his-inspiration/articleshow/75695822.cms\" pg=\"#Story_View-1-geturl~Entertainment_ATF\" title=\"Kartik on a mission to spread 'good news'\">Kartik on a mission to spread 'good news'</a>"
      ]
     },
     "execution_count": 121,
     "metadata": {},
     "output_type": "execute_result"
    }
   ],
   "source": [
    "import requests\n",
    "from bs4 import BeautifulSoup \n",
    "\n",
    "url=\"https://timesofindia.indiatimes.com/\"\n",
    "text=requests.get(url)\n",
    "#print(text.content)\n",
    "\"\"\"\n",
    "text is html response! content displays all the html code but not in human readable format\n",
    "\"\"\"\n",
    "\n",
    "soup=BeautifulSoup(text.content,'html.parser')\n",
    "\n",
    "\"\"\"parse to human readable code\"\"\"\n",
    "\n",
    "#print(soup)\n",
    "\n",
    "\"\"\"The above code is not indended properly\"\"\"\n",
    "\n",
    "#print(soup.prettify())\n",
    "\n",
    "\"\"\"\n",
    "to view in indended fashion\n",
    "lets find something\n",
    "first of all find which division u need and get the class\n",
    "\"\"\"\n",
    "\n",
    "content = soup.find(\"div\",class_=\"stories\")\n",
    "\n",
    "\"\"\"\n",
    "    this find attribute gives the content of the first tag that satifies the given condtion and not returns all the contents of each tag\n",
    "    becoz a class can be applicable for more than one division\n",
    "\"\"\"\n",
    "#print(content.prettify())\n",
    "\n",
    "sodhi=content.find(\"a\") \n",
    "\n",
    "\"\"\"\n",
    "find will return the first encounteres tag and find_all will return the all encounteres tags in filtered information\n",
    "give tag name for the filtered data to retrieve data btwn them\n",
    "\"\"\"\n",
    "\n",
    "sodhi"
   ]
  },
  {
   "cell_type": "code",
   "execution_count": 114,
   "metadata": {},
   "outputs": [],
   "source": [
    "#open amazon.in and in computer section print all product names with prices\n",
    "import requests\n",
    "from bs4 import BeautifulSoup\n",
    "\n",
    "responseData=requests.get(\"https://www.amazon.in/computers-and-accessories/b/?ie=UTF8&node=976392031&ref_=nav_cs_pc\")\n",
    "soup = BeautifulSoup(responseData.content,\"html.parser\")\n",
    "#print(soup.prettify())\n",
    "product=soup.find_all(\"div\",class_=\"s-item-container\")#returns list of all such divisions\n",
    "for i in product:\n",
    "    name=i.find(\"div\",class_=\"a-row a-spacing-none\")\n",
    "    price=i.find(\"span\",class_=\"a-size-base a-color-price s-price a-text-bold\")\n",
    "    if i.find(\"h2\") is not None and price is not None:\n",
    "        print(i.find(\"h2\").text,price.text, sep=\"   : \")\n",
    "        print()"
   ]
  },
  {
   "cell_type": "code",
   "execution_count": 110,
   "metadata": {},
   "outputs": [],
   "source": [
    "#Web crawling : expanding webscraping for more than one page\n",
    "import requests\n",
    "from bs4 import BeautifulSoup\n",
    "\n",
    "page,idx=1,1\n",
    "while(idx!=200):\n",
    "    text = requests.get(\"https://www.flipkart.com/mobiles/mi~brand/pr?sid=tyy%2C4io&otracker=nmenu_sub_Electronics_0_Mi&page=\"+str(page))\n",
    "\n",
    "    soup = BeautifulSoup(text.content,\"html.parser\")\n",
    "\n",
    "    product = soup.find_all(\"div\",class_=\"_1UoZlX\")\n",
    "    \n",
    "    if len(product)==0:\n",
    "        break\n",
    "    \n",
    "    for i in product:\n",
    "        name = i.find(\"div\",class_=\"_3wU53n\")\n",
    "        cost = i.find(\"div\",class_=\"_1vC4OE _2rQ-NK\")\n",
    "        print(idx,name.text,\"\\n\\t\\t\\t\\t\\t\",cost.text)\n",
    "        idx+=1\n",
    "    page+=1"
   ]
  }
 ],
 "metadata": {
  "kernelspec": {
   "display_name": "Python 3",
   "language": "python",
   "name": "python3"
  },
  "language_info": {
   "codemirror_mode": {
    "name": "ipython",
    "version": 3
   },
   "file_extension": ".py",
   "mimetype": "text/x-python",
   "name": "python",
   "nbconvert_exporter": "python",
   "pygments_lexer": "ipython3",
   "version": "3.7.4"
  }
 },
 "nbformat": 4,
 "nbformat_minor": 2
}
