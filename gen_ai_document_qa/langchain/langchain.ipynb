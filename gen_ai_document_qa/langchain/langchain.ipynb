{
 "cells": [
  {
   "cell_type": "code",
   "id": "initial_id",
   "metadata": {
    "collapsed": true,
    "ExecuteTime": {
     "end_time": "2024-10-20T16:09:32.441468Z",
     "start_time": "2024-10-20T16:09:32.363580Z"
    }
   },
   "source": [
    "from langchain_aws import BedrockLLM\n",
    "\n",
    "llm = BedrockLLM(\n",
    "    credentials_profile_name=\"default\",\n",
    "    model_id=\"amazon.titan-text-express-v1\",\n",
    "    model_kwargs={\n",
    "        \"maxTokenCount\": 512,\n",
    "        \"temperature\": 0.6\n",
    "    }\n",
    ")\n",
    "\n",
    "llm.validate"
   ],
   "outputs": [
    {
     "data": {
      "text/plain": [
       "<bound method BaseModel.validate of <class 'langchain_aws.llms.bedrock.BedrockLLM'>>"
      ]
     },
     "execution_count": 8,
     "metadata": {},
     "output_type": "execute_result"
    }
   ],
   "execution_count": 8
  },
  {
   "metadata": {
    "ExecuteTime": {
     "end_time": "2024-10-20T16:13:38.829268Z",
     "start_time": "2024-10-20T16:13:31.176418Z"
    }
   },
   "cell_type": "code",
   "source": [
    "%%time\n",
    "from langchain.globals import set_llm_cache\n",
    "from langchain.cache import InMemoryCache\n",
    "\n",
    "set_llm_cache(InMemoryCache())\n",
    "llm.invoke(\"list 20 countries with their capitals\")"
   ],
   "id": "b9711a1a8afd53e5",
   "outputs": [
    {
     "name": "stdout",
     "output_type": "stream",
     "text": [
      "CPU times: user 131 ms, sys: 42.3 ms, total: 174 ms\n",
      "Wall time: 7.64 s\n"
     ]
    },
    {
     "data": {
      "text/plain": [
       "'\\nHere are the 20 countries with their capitals:\\n1. America: Washington, D.C.\\n2. Brazil: Brasília\\n3. Canada: Ottawa\\n4. Chile: Santiago\\n5. China: Beijing\\n6. Egypt: Cairo\\n7. France: Paris\\n8. Germany: Berlin\\n9. India: New Delhi\\n10. Indonesia: Jakarta\\n11. Italy: Rome\\n12. Japan: Tokyo\\n13. Kenya: Nairobi\\n14. Mexico: Mexico City\\n15. Russia: Moscow\\n16. South Africa: Pretoria\\n17. Spain: Madrid\\n18. Sweden: Stockholm\\n19. Thailand: Bangkok\\n20. United Kingdom: London'"
      ]
     },
     "execution_count": 13,
     "metadata": {},
     "output_type": "execute_result"
    }
   ],
   "execution_count": 13
  },
  {
   "metadata": {
    "ExecuteTime": {
     "end_time": "2024-10-20T16:16:34.409226Z",
     "start_time": "2024-10-20T16:16:34.400969Z"
    }
   },
   "cell_type": "code",
   "source": [
    "%%time\n",
    "\n",
    "llm.invoke(\"list 10 countries with their capitals\")"
   ],
   "id": "7221a33bbfee6f89",
   "outputs": [
    {
     "name": "stdout",
     "output_type": "stream",
     "text": [
      "CPU times: user 210 µs, sys: 50 µs, total: 260 µs\n",
      "Wall time: 267 µs\n"
     ]
    },
    {
     "data": {
      "text/plain": [
       "'\\nHere is a list of 10 countries with their capitals:\\n\\n1. USA - Washington, D.C.\\n2. Canada - Ottawa\\n3. Mexico - Mexico City\\n4. Brazil - Brasília\\n5. China - Beijing\\n6. Japan - Tokyo\\n7. Germany - Berlin\\n8. United Kingdom - London\\n9. France - Paris\\n10. South Africa - Pretoria'"
      ]
     },
     "execution_count": 23,
     "metadata": {},
     "output_type": "execute_result"
    }
   ],
   "execution_count": 23
  },
  {
   "metadata": {},
   "cell_type": "code",
   "outputs": [],
   "execution_count": null,
   "source": "",
   "id": "e07a1c28e57f0873"
  }
 ],
 "metadata": {
  "kernelspec": {
   "display_name": "Python 3",
   "language": "python",
   "name": "python3"
  },
  "language_info": {
   "codemirror_mode": {
    "name": "ipython",
    "version": 2
   },
   "file_extension": ".py",
   "mimetype": "text/x-python",
   "name": "python",
   "nbconvert_exporter": "python",
   "pygments_lexer": "ipython2",
   "version": "2.7.6"
  }
 },
 "nbformat": 4,
 "nbformat_minor": 5
}
